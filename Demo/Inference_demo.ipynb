{
 "cells": [
  {
   "cell_type": "markdown",
   "metadata": {},
   "source": [
    "# Inferring the epigenomic profiles of sequences"
   ]
  },
  {
   "cell_type": "markdown",
   "metadata": {},
   "source": [
    "1) Running the inference script on sequences"
   ]
  },
  {
   "cell_type": "code",
   "execution_count": 2,
   "metadata": {},
   "outputs": [
    {
     "name": "stdout",
     "output_type": "stream",
     "text": [
      "------------Starting MetaChrom Inferece for Sequance epigenomic profile------------\n",
      "Model: ../trained_model/MetaChrom_models/MetaChrom_model.pt\n",
      "Number of Sequence to infer: 390380\n",
      "Device: 0\n",
      "Batch Size: 256\n",
      "Result Directory: ./\n",
      "------------Running Inference------------\n",
      "------------Saving Result------------\n",
      "Result saved at: ./results.pt\n"
     ]
    }
   ],
   "source": [
    "!python3 ../src/infer.py --Model ../trained_model/MetaChrom_models/MetaChrom_model.pt --InputFile ../data/seq_data/test.seq --OutDir ./ --NumTarget 31 --Device 0"
   ]
  },
  {
   "cell_type": "markdown",
   "metadata": {},
   "source": [
    "2) Checking the ouput"
   ]
  },
  {
   "cell_type": "code",
   "execution_count": 3,
   "metadata": {},
   "outputs": [],
   "source": [
    "import torch"
   ]
  },
  {
   "cell_type": "code",
   "execution_count": 4,
   "metadata": {},
   "outputs": [
    {
     "name": "stdout",
     "output_type": "stream",
     "text": [
      "390380\n",
      "(31,)\n",
      "[9.7999692e-01 2.6442999e-02 9.6570313e-01 3.1492749e-01 9.0994340e-01\n",
      " 2.1621905e-02 6.1991829e-03 8.4052050e-01 9.7773552e-01 8.7467778e-01\n",
      " 6.2290019e-01 8.9341837e-01 7.2931892e-01 7.9057610e-01 8.8376898e-01\n",
      " 4.3672580e-01 1.8704015e-01 9.0320414e-01 8.6005872e-01 4.4370261e-01\n",
      " 7.1204585e-01 9.2071390e-01 8.6523938e-01 3.4631978e-04 5.8923757e-01\n",
      " 7.5207454e-01 7.5850356e-01 7.5152224e-01 3.0435564e-03 3.3060124e-03\n",
      " 2.2193179e-03]\n"
     ]
    }
   ],
   "source": [
    "results = torch.load('results.pt')\n",
    "print(len(results))\n",
    "for seq_id in results:\n",
    "    print(results[seq_id].shape)\n",
    "    print(results[seq_id])\n",
    "    break"
   ]
  },
  {
   "cell_type": "markdown",
   "metadata": {},
   "source": [
    "# Inferring genomic variant effects on epigenomic profiles"
   ]
  },
  {
   "cell_type": "markdown",
   "metadata": {},
   "source": [
    "1) Running the inference scrip on variant files"
   ]
  },
  {
   "cell_type": "code",
   "execution_count": 5,
   "metadata": {},
   "outputs": [
    {
     "name": "stdout",
     "output_type": "stream",
     "text": [
      "------------Starting MetaChrom Inferece for Variant effect------------\n",
      "Model: ../trained_model/MetaChrom_models/MetaChrom_model.pt\n",
      "Number of Sequence to infer: 4\n",
      "Device: 0\n",
      "Batch Size: 256\n",
      "Result Directory: ./\n",
      "------------Running Inference------------\n",
      "------------Saving Result------------\n",
      "Result saved at: ./results.pt\n"
     ]
    }
   ],
   "source": [
    "! python ../src/infer_var.py --Model ../trained_model/MetaChrom_models/MetaChrom_model.pt --InputFile ../data/vseq_data/out.vseq --OutDir ./ --NumTarget 31 "
   ]
  },
  {
   "cell_type": "code",
   "execution_count": 6,
   "metadata": {},
   "outputs": [
    {
     "name": "stdout",
     "output_type": "stream",
     "text": [
      "4\n",
      "[5.53209819e-02 2.73365397e-02 5.03807291e-02 1.80864409e-02\n",
      " 7.30388388e-02 3.99534404e-02 7.64003038e-01 2.60756582e-01\n",
      " 3.91258523e-02 3.38245824e-04 7.68030950e-05 3.77181510e-04\n",
      " 6.42327883e-04 1.80732823e-04 1.27071384e-04 4.80672419e-02\n",
      " 1.19847005e-04 5.67298965e-04 3.39528779e-04 4.60579118e-04\n",
      " 3.80983780e-04 4.87856887e-04 6.67131681e-04 1.90801527e-02\n",
      " 1.94447804e-02 1.18164666e-01 2.20967650e-01 1.74820982e-02\n",
      " 1.49713486e-01 1.40733898e-01 1.08678497e-01]\n",
      "[6.9186762e-02 2.5895750e-02 7.0122346e-02 2.3812467e-02 7.3582321e-02\n",
      " 3.8216315e-02 7.5060505e-01 3.2729271e-01 5.5693474e-02 2.2697626e-04\n",
      " 4.6781966e-05 2.4442872e-04 4.3185728e-04 1.2192135e-04 8.2456027e-05\n",
      " 3.2865461e-02 6.8138841e-05 3.7902399e-04 2.3010685e-04 2.6611175e-04\n",
      " 2.6241364e-04 3.2644821e-04 4.3842237e-04 2.3841653e-02 2.8609846e-02\n",
      " 1.1208937e-01 2.0259675e-01 1.8540798e-02 1.9336239e-01 1.8182433e-01\n",
      " 1.3137835e-01]\n",
      "[1.3865780e-02 1.4407896e-03 1.9741617e-02 5.7260264e-03 5.4348260e-04\n",
      " 1.7371252e-03 1.3397992e-02 6.6536129e-02 1.6567621e-02 1.1126956e-04\n",
      " 3.0021129e-05 1.3275279e-04 2.1047061e-04 5.8811471e-05 4.4615357e-05\n",
      " 1.5201781e-02 5.1708164e-05 1.8827498e-04 1.0942193e-04 1.9446737e-04\n",
      " 1.1857014e-04 1.6140868e-04 2.2870931e-04 4.7615003e-03 9.1650654e-03\n",
      " 6.0752928e-03 1.8370897e-02 1.0586996e-03 4.3648899e-02 4.1090429e-02\n",
      " 2.2699855e-02]\n"
     ]
    }
   ],
   "source": [
    "results = torch.load('results.pt')\n",
    "print(len(results))\n",
    "for seq_id in results:\n",
    "    print(results[seq_id]['ref_prob'])\n",
    "    print(results[seq_id]['alt_prob'])\n",
    "    print(results[seq_id]['abs_diff'])\n",
    "    break"
   ]
  },
  {
   "cell_type": "code",
   "execution_count": null,
   "metadata": {},
   "outputs": [],
   "source": []
  }
 ],
 "metadata": {
  "kernelspec": {
   "display_name": "metachrom_test",
   "language": "python",
   "name": "metachrom_test"
  },
  "language_info": {
   "codemirror_mode": {
    "name": "ipython",
    "version": 3
   },
   "file_extension": ".py",
   "mimetype": "text/x-python",
   "name": "python",
   "nbconvert_exporter": "python",
   "pygments_lexer": "ipython3",
   "version": "3.9.7"
  }
 },
 "nbformat": 4,
 "nbformat_minor": 4
}
