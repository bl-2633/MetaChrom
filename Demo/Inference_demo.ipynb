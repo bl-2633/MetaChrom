{
 "cells": [
  {
   "cell_type": "markdown",
   "metadata": {},
   "source": [
    "# Inferring the epigenomic profiles of sequences"
   ]
  },
  {
   "cell_type": "markdown",
   "metadata": {},
   "source": [
    "1) ## Running the inference script on sequences"
   ]
  },
  {
   "cell_type": "code",
<<<<<<< HEAD
   "execution_count": 1,
=======
   "execution_count": 2,
>>>>>>> 846a5983b225a220f3432bd66c0b3e4336ca6ccf
   "metadata": {},
   "outputs": [
    {
     "name": "stdout",
     "output_type": "stream",
     "text": [
      "------------Starting MetaChrom Inferece for Sequance epigenomic profile------------\n",
<<<<<<< HEAD
      "Model: ../trained_model/MetaChrom_models/MetaFeat_ResNet\n",
=======
      "Model: ../trained_model/MetaChrom_models/MetaChrom_model.pt\n",
>>>>>>> 846a5983b225a220f3432bd66c0b3e4336ca6ccf
      "Number of Sequence to infer: 390380\n",
      "Device: 0\n",
      "Batch Size: 256\n",
      "Result Directory: ./\n",
      "------------Running Inference------------\n",
      "------------Saving Result------------\n",
      "Result saved at: ./results.pt\n"
     ]
    }
   ],
   "source": [
    "!python3 ../src/infer.py --Model ../trained_model/MetaChrom_models/MetaChrom_model.pt --InputFile ../data/seq_data/test.seq --OutDir ./ --NumTarget 31 --Device 0"
   ]
  },
  {
   "cell_type": "markdown",
   "metadata": {},
   "source": [
    "2) We can now load the generated results and inspect the predicted epigenomic profile for each peak"
   ]
  },
  {
   "cell_type": "code",
<<<<<<< HEAD
   "execution_count": 2,
=======
   "execution_count": 3,
>>>>>>> 846a5983b225a220f3432bd66c0b3e4336ca6ccf
   "metadata": {},
   "outputs": [],
   "source": [
    "import torch"
   ]
  },
  {
   "cell_type": "code",
<<<<<<< HEAD
   "execution_count": 3,
=======
   "execution_count": 4,
>>>>>>> 846a5983b225a220f3432bd66c0b3e4336ca6ccf
   "metadata": {},
   "outputs": [
    {
     "name": "stdout",
     "output_type": "stream",
     "text": [
      "390380\n",
      "(31,)\n",
<<<<<<< HEAD
      "[0.10461768 0.13319151 0.07698414 0.04137048 0.03672846 0.14293893\n",
      " 0.03349861 0.25333163 0.16129442 0.0127366  0.00888379 0.01405155\n",
      " 0.02751088 0.01363961 0.01194279 0.01635509 0.03623762 0.01536017\n",
      " 0.01465684 0.05275518 0.0110325  0.0149459  0.01614084 0.00340949\n",
      " 0.07729381 0.26533312 0.5179179  0.34847364 0.0252225  0.02637129\n",
      " 0.02462238]\n"
=======
      "[9.7999692e-01 2.6442999e-02 9.6570313e-01 3.1492749e-01 9.0994340e-01\n",
      " 2.1621905e-02 6.1991829e-03 8.4052050e-01 9.7773552e-01 8.7467778e-01\n",
      " 6.2290019e-01 8.9341837e-01 7.2931892e-01 7.9057610e-01 8.8376898e-01\n",
      " 4.3672580e-01 1.8704015e-01 9.0320414e-01 8.6005872e-01 4.4370261e-01\n",
      " 7.1204585e-01 9.2071390e-01 8.6523938e-01 3.4631978e-04 5.8923757e-01\n",
      " 7.5207454e-01 7.5850356e-01 7.5152224e-01 3.0435564e-03 3.3060124e-03\n",
      " 2.2193179e-03]\n"
>>>>>>> 846a5983b225a220f3432bd66c0b3e4336ca6ccf
     ]
    }
   ],
   "source": [
    "results = torch.load('results.pt')\n",
    "print(len(results))\n",
    "for seq_id in results:\n",
    "    print(results[seq_id].shape)\n",
    "    print(results[seq_id])\n",
    "    break"
   ]
  },
  {
   "cell_type": "markdown",
   "metadata": {},
   "source": [
    "# Inferring genomic variant effects on epigenomic profiles"
   ]
  },
  {
   "cell_type": "markdown",
   "metadata": {},
   "source": [
    "1) Running the inference scrip on variant files"
   ]
  },
  {
   "cell_type": "code",
<<<<<<< HEAD
   "execution_count": 4,
=======
   "execution_count": 5,
>>>>>>> 846a5983b225a220f3432bd66c0b3e4336ca6ccf
   "metadata": {},
   "outputs": [
    {
     "name": "stdout",
     "output_type": "stream",
     "text": [
      "------------Starting MetaChrom Inferece for Variant effect------------\n",
<<<<<<< HEAD
      "Model: ../trained_model/MetaChrom_models/MetaFeat_ResNet\n",
=======
      "Model: ../trained_model/MetaChrom_models/MetaChrom_model.pt\n",
>>>>>>> 846a5983b225a220f3432bd66c0b3e4336ca6ccf
      "Number of Sequence to infer: 4\n",
      "Device: 0\n",
      "Batch Size: 256\n",
      "Result Directory: ./\n",
      "------------Running Inference------------\n",
      "------------Saving Result------------\n",
      "Result saved at: ./results.pt\n"
     ]
    }
   ],
   "source": [
    "! python ../src/infer_var.py --Model ../trained_model/MetaChrom_models/MetaChrom_model.pt --InputFile ../data/vseq_data/out.vseq --OutDir ./ --NumTarget 31 "
   ]
  },
  {
   "cell_type": "markdown",
   "metadata": {},
   "source": [
    "2) Now you can load and inspect the predeicted variant effects!"
   ]
  },
  {
   "cell_type": "code",
<<<<<<< HEAD
   "execution_count": 5,
=======
   "execution_count": 6,
>>>>>>> 846a5983b225a220f3432bd66c0b3e4336ca6ccf
   "metadata": {},
   "outputs": [
    {
     "name": "stdout",
     "output_type": "stream",
     "text": [
      "4\n",
<<<<<<< HEAD
      "[0.0219847  0.06072405 0.01489151 0.00422305 0.01979388 0.07282194\n",
      " 0.37185708 0.07293887 0.01490453 0.00152525 0.00056513 0.00182063\n",
      " 0.001597   0.00094345 0.00082568 0.00724606 0.00054365 0.00220881\n",
      " 0.00161618 0.00153145 0.00130489 0.00200321 0.00229092 0.00257345\n",
      " 0.01328575 0.09241407 0.49798885 0.02421635 0.0250584  0.0272499\n",
      " 0.02313892]\n",
      "[0.02128138 0.06117229 0.01483024 0.00433785 0.01972915 0.07352609\n",
      " 0.37509304 0.07114559 0.01430753 0.00155358 0.00057562 0.00184869\n",
      " 0.00164714 0.00096514 0.00084518 0.0069197  0.00055779 0.00223993\n",
      " 0.00164219 0.00155361 0.00131142 0.00202903 0.00232341 0.00258478\n",
      " 0.01316502 0.09310289 0.4995101  0.02449511 0.02473745 0.02683162\n",
      " 0.02305055]\n",
      "[7.0332177e-04 4.4824556e-04 6.1265193e-05 1.1479808e-04 6.4728782e-05\n",
      " 7.0415437e-04 3.2359660e-03 1.7932802e-03 5.9699640e-04 2.8334674e-05\n",
      " 1.0493095e-05 2.8059818e-05 5.0139264e-05 2.1693879e-05 1.9504223e-05\n",
      " 3.2636570e-04 1.4135556e-05 3.1126197e-05 2.6003458e-05 2.2160821e-05\n",
      " 6.5308996e-06 2.5822315e-05 3.2497104e-05 1.1329306e-05 1.2073014e-04\n",
      " 6.8881363e-04 1.5212595e-03 2.7875789e-04 3.2094866e-04 4.1827559e-04\n",
      " 8.8371336e-05]\n"
=======
      "[5.53209819e-02 2.73365397e-02 5.03807291e-02 1.80864409e-02\n",
      " 7.30388388e-02 3.99534404e-02 7.64003038e-01 2.60756582e-01\n",
      " 3.91258523e-02 3.38245824e-04 7.68030950e-05 3.77181510e-04\n",
      " 6.42327883e-04 1.80732823e-04 1.27071384e-04 4.80672419e-02\n",
      " 1.19847005e-04 5.67298965e-04 3.39528779e-04 4.60579118e-04\n",
      " 3.80983780e-04 4.87856887e-04 6.67131681e-04 1.90801527e-02\n",
      " 1.94447804e-02 1.18164666e-01 2.20967650e-01 1.74820982e-02\n",
      " 1.49713486e-01 1.40733898e-01 1.08678497e-01]\n",
      "[6.9186762e-02 2.5895750e-02 7.0122346e-02 2.3812467e-02 7.3582321e-02\n",
      " 3.8216315e-02 7.5060505e-01 3.2729271e-01 5.5693474e-02 2.2697626e-04\n",
      " 4.6781966e-05 2.4442872e-04 4.3185728e-04 1.2192135e-04 8.2456027e-05\n",
      " 3.2865461e-02 6.8138841e-05 3.7902399e-04 2.3010685e-04 2.6611175e-04\n",
      " 2.6241364e-04 3.2644821e-04 4.3842237e-04 2.3841653e-02 2.8609846e-02\n",
      " 1.1208937e-01 2.0259675e-01 1.8540798e-02 1.9336239e-01 1.8182433e-01\n",
      " 1.3137835e-01]\n",
      "[1.3865780e-02 1.4407896e-03 1.9741617e-02 5.7260264e-03 5.4348260e-04\n",
      " 1.7371252e-03 1.3397992e-02 6.6536129e-02 1.6567621e-02 1.1126956e-04\n",
      " 3.0021129e-05 1.3275279e-04 2.1047061e-04 5.8811471e-05 4.4615357e-05\n",
      " 1.5201781e-02 5.1708164e-05 1.8827498e-04 1.0942193e-04 1.9446737e-04\n",
      " 1.1857014e-04 1.6140868e-04 2.2870931e-04 4.7615003e-03 9.1650654e-03\n",
      " 6.0752928e-03 1.8370897e-02 1.0586996e-03 4.3648899e-02 4.1090429e-02\n",
      " 2.2699855e-02]\n"
>>>>>>> 846a5983b225a220f3432bd66c0b3e4336ca6ccf
     ]
    }
   ],
   "source": [
    "results = torch.load('results.pt')\n",
    "print(len(results))\n",
    "for seq_id in results:\n",
    "    print(results[seq_id]['ref_prob'])\n",
    "    print(results[seq_id]['alt_prob'])\n",
    "    print(results[seq_id]['abs_diff'])\n",
    "    break"
   ]
  },
  {
   "cell_type": "code",
   "execution_count": null,
   "metadata": {},
   "outputs": [],
   "source": []
  }
 ],
 "metadata": {
  "kernelspec": {
<<<<<<< HEAD
   "display_name": "Python 3 (ipykernel)",
=======
   "display_name": "metachrom_test",
>>>>>>> 846a5983b225a220f3432bd66c0b3e4336ca6ccf
   "language": "python",
   "name": "metachrom_test"
  },
  "language_info": {
   "codemirror_mode": {
    "name": "ipython",
    "version": 3
   },
   "file_extension": ".py",
   "mimetype": "text/x-python",
   "name": "python",
   "nbconvert_exporter": "python",
   "pygments_lexer": "ipython3",
   "version": "3.9.7"
  }
 },
 "nbformat": 4,
 "nbformat_minor": 4
}
