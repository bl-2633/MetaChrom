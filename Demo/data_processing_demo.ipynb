{
 "cells": [
  {
   "cell_type": "markdown",
   "metadata": {},
   "source": [
    "# Processing data with Bed2Seq.py"
   ]
  },
  {
   "cell_type": "markdown",
   "metadata": {},
   "source": [
    "Below is a demo on how to generate sequence data and corresponding labels from a set of BED files with Bed2Seq.py \n",
    "\n",
    "1) Check the bed files"
   ]
  },
  {
   "cell_type": "code",
   "execution_count": 6,
   "metadata": {},
   "outputs": [
    {
     "name": "stdout",
     "output_type": "stream",
     "text": [
      "CN.bed\tDN.bed\tGA.bed\tIPS.bed  NSC.bed\r\n"
     ]
    }
   ],
   "source": [
    "!ls ../data/bed_files"
   ]
  },
  {
   "cell_type": "markdown",
   "metadata": {},
   "source": [
    "2) Run Bed2Seq"
   ]
  },
  {
   "cell_type": "code",
   "execution_count": 15,
   "metadata": {},
   "outputs": [
    {
     "name": "stdout",
     "output_type": "stream",
     "text": [
      "------------Starting Bed2Seq------------\n",
      "\n",
      "------------Checking input BED directory------------\n",
      "Input bed directory: ../data/bed_files/\n",
      "\n",
      "Number of Bed file Found: 5\n",
      "GA CN IPS DN NSC\n",
      "\n",
      "Finished\n",
      "------------Checking Reference Genome------------\n",
      "Finished\n",
      "------------Checking required tools and files------------\n",
      "Finished\n",
      "------------Calculating overlaps------------\n",
      "../tool/bedtools2/bin/intersectBed -a ../tool/genome_bins.bed -b ../data/bed_files/GA.bed ../data/bed_files/CN.bed ../data/bed_files/IPS.bed ../data/bed_files/DN.bed ../data/bed_files/NSC.bed -names GA CN IPS DN NSC -wa -wb -f 0.5 > ../data/seq_data/overlap.bed\n",
      "\n",
      "Writing overlap.bed\n",
      "Finished\n",
      "------------Composing sequence and corresponding labels------------\n",
      "Writing train.bed\n",
      "Writing test.bed\n",
      "Writing labels.pt\n",
      "Finished\n",
      "------------Writing Sequence file to destination------------\n",
      "Writing train.fasta\n",
      "Writing test.fasta\n",
      "Writing train.seq\n",
      "Writing test.seq\n",
      "Finished\n",
      "------------Writing Meta data------------\n",
      "Finished\n",
      "------------Clean Up------------\n",
      "Finished\n"
     ]
    }
   ],
   "source": [
    "!python3 ../src/data_processing/Bed2Seq.py --BedDir ../data/bed_files/ --OutDir ../data/seq_data/ --RefGenome ../tool/genome_bins.bed --ToolDir ../tool/"
   ]
  },
  {
   "cell_type": "markdown",
   "metadata": {},
   "source": [
    "3) Checking the output"
   ]
  },
  {
   "cell_type": "code",
   "execution_count": 27,
   "metadata": {},
   "outputs": [
    {
     "name": "stdout",
     "output_type": "stream",
     "text": [
      "Input bed directory: ../data/bed_files/\r\n",
      "Number of BED files: 5\r\n",
      "BED file names: GA CN IPS DN NSC\r\n",
      "Number of train sequences: 1407923\r\n",
      "Number of test sequences: 165626\r\n"
     ]
    }
   ],
   "source": [
    "!cat ../data/seq_data/MetaData.txt"
   ]
  },
  {
   "cell_type": "code",
   "execution_count": 21,
   "metadata": {},
   "outputs": [],
   "source": [
    "import torch\n",
    "import sys\n",
    "sys.path.append('../src')\n",
    "from model import data_loader"
   ]
  },
  {
   "cell_type": "code",
   "execution_count": 28,
   "metadata": {},
   "outputs": [
    {
     "name": "stdout",
     "output_type": "stream",
     "text": [
      "50\n",
      "torch.Size([4, 1000])\n",
      "torch.Size([5])\n",
      "{'GA': 0, 'CN': 1, 'IPS': 2, 'DN': 3, 'NSC': 4}\n"
     ]
    }
   ],
   "source": [
    "Dset = data_loader.seq_data(seq_path = '../data/seq_data/train.seq', training_mode = True, label_path = '../data/seq_data/labels.pt')\n",
    "seq_id, onehot_seq, label = Dset[0]\n",
    "print(seq_id)\n",
    "print(onehot_seq.size())\n",
    "print(label.size())\n",
    "FeatMap = torch.load('../data/seq_data/FeatMap.pt')\n",
    "print(FeatMap)"
   ]
  },
  {
   "cell_type": "markdown",
   "metadata": {},
   "source": [
    "# Processing variants with SNP2Seq.py"
   ]
  },
  {
   "cell_type": "markdown",
   "metadata": {},
   "source": [
    "Below is a demo on how to generate sequence data and corresponding labels from a set of BED files with Bed2Seq.py \n",
    "\n",
    "1) Check the variant file"
   ]
  },
  {
   "cell_type": "code",
   "execution_count": 33,
   "metadata": {},
   "outputs": [
    {
     "name": "stdout",
     "output_type": "stream",
     "text": [
      "rs328\n",
      "rs12854784\n",
      "chr1\t109817590\t[known_CEBP_binding_increase]\tG\tT\n",
      "chr10\t23508363\t[known_FOXA2_binding_decrease]\tA\tG\n",
      "chr16\t52599188\t[known_FOXA1_binding_increase]\tC\tT\n",
      "chr16\t209709\t[known_GATA1_binding_increase]\tT\tC\n"
     ]
    }
   ],
   "source": [
    "!cat ../data/SNP_file/rsid.txt\n",
    "!cat ../data/SNP_file/test.vcf"
   ]
  },
  {
   "cell_type": "markdown",
   "metadata": {},
   "source": [
    "2) Run SNP2Seq and checking output\n",
    "\n",
    "rsid mode"
   ]
  },
  {
   "cell_type": "code",
   "execution_count": 37,
   "metadata": {},
   "outputs": [
    {
     "name": "stdout",
     "output_type": "stream",
     "text": [
      "------------Starting SNP2Seq------------\n",
      "\n",
      "------------Checking required tools and files------------\n",
      "Finished\n",
      "------------Converting input to bed------------\n",
      "Finished\n",
      "------------Writing seq file to destination------------\n",
      "Finished\n",
      "------------Clean up------------\n",
      "Finished\n"
     ]
    }
   ],
   "source": [
    "!python3 ../src/data_processing/SNP2Seq.py --InputType rsid --InputFile ../data/SNP_file/rsid.txt --OutDir ../data/vseq_data/ --ToolDir ../tool/"
   ]
  },
  {
   "cell_type": "code",
   "execution_count": 38,
   "metadata": {},
   "outputs": [
    {
     "name": "stdout",
     "output_type": "stream",
     "text": [
      "rs328;C;G\n",
      "torch.Size([4, 1000])\n",
      "torch.Size([4, 1000])\n"
     ]
    }
   ],
   "source": [
    "Dset = data_loader.SNP_data(seq_path = '../data/vseq_data/out.vseq')\n",
    "seq_id, ref_seq, alt_seq = Dset[0]\n",
    "print(seq_id)\n",
    "print(ref_seq.size())\n",
    "print(alt_seq.size())"
   ]
  },
  {
   "cell_type": "markdown",
   "metadata": {},
   "source": [
    "VCF mode"
   ]
  },
  {
   "cell_type": "code",
   "execution_count": 39,
   "metadata": {},
   "outputs": [
    {
     "name": "stdout",
     "output_type": "stream",
     "text": [
      "------------Starting SNP2Seq------------\r\n",
      "\r\n",
      "------------Checking required tools and files------------\r\n",
      "Finished\r\n",
      "------------Converting input to bed------------\r\n",
      "Finished\r\n",
      "------------Writing seq file to destination------------\r\n",
      "Finished\r\n",
      "------------Clean up------------\r\n",
      "Finished\r\n"
     ]
    }
   ],
   "source": [
    "!python3 ../src/data_processing/SNP2Seq.py --InputType VCF --InputFile ../data/SNP_file/test.vcf --OutDir ../data/vseq_data/ --ToolDir ../tool/"
   ]
  },
  {
   "cell_type": "code",
   "execution_count": 40,
   "metadata": {},
   "outputs": [
    {
     "name": "stdout",
     "output_type": "stream",
     "text": [
      "[known_CEBP_binding_increase];G;T\n",
      "torch.Size([4, 1000])\n",
      "torch.Size([4, 1000])\n"
     ]
    }
   ],
   "source": [
    "Dset = data_loader.SNP_data(seq_path = '../data/vseq_data/out.vseq')\n",
    "seq_id, ref_seq, alt_seq = Dset[0]\n",
    "print(seq_id)\n",
    "print(ref_seq.size())\n",
    "print(alt_seq.size())"
   ]
  },
  {
   "cell_type": "code",
   "execution_count": null,
   "metadata": {},
   "outputs": [],
   "source": []
  }
 ],
 "metadata": {
  "kernelspec": {
   "display_name": "Python 3",
   "language": "python",
   "name": "python3"
  },
  "language_info": {
   "codemirror_mode": {
    "name": "ipython",
    "version": 3
   },
   "file_extension": ".py",
   "mimetype": "text/x-python",
   "name": "python",
   "nbconvert_exporter": "python",
   "pygments_lexer": "ipython3",
   "version": "3.6.8"
  }
 },
 "nbformat": 4,
 "nbformat_minor": 4
}
