{
 "cells": [
  {
   "cell_type": "markdown",
   "metadata": {},
   "source": [
    "# Inferring the epigenomic profile of sequences"
   ]
  },
  {
   "cell_type": "code",
   "execution_count": 26,
   "metadata": {},
   "outputs": [
    {
     "name": "stdout",
     "output_type": "stream",
     "text": [
      "------------Starting MetaChrom Inferece for Sequance epigenomic profile------------\n",
      "Model: ../trained_model/MetaChrom_models/MetaFeat_ResNet\n",
      "Number of Sequence to infer: 165626\n",
      "Device: 3\n",
      "Batch Size: 256\n",
      "Result Directory: ./\n",
      "------------Running Inference------------\n",
      "^C\n"
     ]
    }
   ],
   "source": [
    "!python3 ../src/infer.py --Model ../trained_model/MetaChrom_models/MetaFeat_ResNet --InputFile ../data/seq_data/test.seq --OutDir ./ --NumTarget 31 --Device 3"
   ]
  },
  {
   "cell_type": "code",
   "execution_count": 20,
   "metadata": {},
   "outputs": [
    {
     "data": {
      "text/plain": [
       "<All keys matched successfully>"
      ]
     },
     "execution_count": 20,
     "metadata": {},
     "output_type": "execute_result"
    }
   ],
   "source": []
  },
  {
   "cell_type": "code",
   "execution_count": 21,
   "metadata": {},
   "outputs": [],
   "source": []
  },
  {
   "cell_type": "code",
   "execution_count": null,
   "metadata": {},
   "outputs": [],
   "source": []
  }
 ],
 "metadata": {
  "kernelspec": {
   "display_name": "Python 3",
   "language": "python",
   "name": "python3"
  },
  "language_info": {
   "codemirror_mode": {
    "name": "ipython",
    "version": 3
   },
   "file_extension": ".py",
   "mimetype": "text/x-python",
   "name": "python",
   "nbconvert_exporter": "python",
   "pygments_lexer": "ipython3",
   "version": "3.6.8"
  }
 },
 "nbformat": 4,
 "nbformat_minor": 4
}
