{
 "cells": [
  {
   "cell_type": "markdown",
   "metadata": {},
   "source": [
    "# Inferring the epigenomic profiles of sequences"
   ]
  },
  {
   "cell_type": "markdown",
   "metadata": {},
   "source": [
    "## 1) Running the inference script on sequences"
   ]
  },
  {
   "cell_type": "code",
   "execution_count": 15,
   "metadata": {},
   "outputs": [
    {
     "name": "stdout",
     "output_type": "stream",
     "text": [
      "------------Starting MetaChrom Inferece for Sequance epigenomic profile------------\n",
      "Model: ../trained_model/MetaChrom_models/MetaChrom_model\n",
      "Number of Sequence to infer: 390380\n",
      "Device: 0\n",
      "Batch Size: 256\n",
      "Result Directory: ./\n",
      "------------Running Inference------------\n",
      "------------Saving Result------------\n",
      "Result saved at: ./results.pt\n"
     ]
    }
   ],
   "source": [
    "! python3 ../src/infer.py --Model ../trained_model/MetaChrom_models/MetaChrom_model --InputFile ../data/seq_data/test.seq --OutDir ./ --NumTarget 31 --Device 0"
   ]
  },
  {
   "cell_type": "markdown",
   "metadata": {},
   "source": [
    "## 2) We can now load the generated results and inspect the predicted epigenomic profile for each peak"
   ]
  },
  {
   "cell_type": "code",
   "execution_count": 16,
   "metadata": {},
   "outputs": [],
   "source": [
    "import torch"
   ]
  },
  {
   "cell_type": "code",
   "execution_count": 18,
   "metadata": {},
   "outputs": [
    {
     "name": "stdout",
     "output_type": "stream",
     "text": [
      "PUT_neuron:0.10461768\n",
      "PFC_H3K27ac:0.13319151\n",
      "PEC_OCR:0.076984145\n",
      "CN:0.041370485\n",
      "H3K27ac:0.036728457\n",
      "CP:0.14293893\n",
      "AMY_neuron:0.033498608\n",
      "Organoid_11:0.25333163\n",
      "PMC_neuron:0.16129442\n",
      "DLPFC_neuron:0.012736599\n",
      "CBC_H3K27ac:0.008883795\n",
      "IPS:0.014051553\n",
      "PVC_neuron:0.027510881\n",
      "ACC_neuron:0.013639613\n",
      "STC_neuron:0.011942787\n",
      "PEC_enhancers:0.016355088\n",
      "GZ:0.03623762\n",
      "DN:0.01536017\n",
      "TC_H3K27ac:0.014656843\n",
      "GA:0.05275518\n",
      "NSC:0.011032503\n",
      "ITC_neuron:0.0149459\n",
      "FB1:0.016140835\n",
      "Organoid_30:0.0034094916\n",
      "NAC_neuron:0.077293806\n",
      "MDT_neuron:0.26533312\n",
      "HIPP_neuron:0.5179179\n",
      "VLPFC_neuron:0.34847364\n",
      "Organoid_0:0.0252225\n",
      "INS_neuron:0.026371293\n",
      "OFC_neuron:0.024622383\n"
     ]
    }
   ],
   "source": [
    "results = torch.load('results.pt')\n",
    "FeatMap = {v: k for k, v in torch.load('../data/seq_data/FeatMap.pt').items()}\n",
    "for seq_id in results:\n",
    "    for i, j in enumerate(results[seq_id]):\n",
    "        print(FeatMap[i] + ':' + str(j))\n",
    "    break"
   ]
  },
  {
   "cell_type": "markdown",
   "metadata": {},
   "source": [
    "Here are the OCR probabilities of a sample sequence fragment in the neural developmental context."
   ]
  },
  {
   "cell_type": "markdown",
   "metadata": {},
   "source": [
    "# Inferring genomic variant effects on epigenomic profiles"
   ]
  },
  {
   "cell_type": "markdown",
   "metadata": {},
   "source": [
    "## 1) Running the inference scrip on variant files"
   ]
  },
  {
   "cell_type": "code",
   "execution_count": 19,
   "metadata": {},
   "outputs": [
    {
     "name": "stdout",
     "output_type": "stream",
     "text": [
      "------------Starting MetaChrom Inferece for Variant effect------------\n",
      "Model: ../trained_model/MetaChrom_models/MetaChrom_model\n",
      "Number of Sequence to infer: 4\n",
      "Device: 0\n",
      "Batch Size: 256\n",
      "Result Directory: ./\n",
      "------------Running Inference------------\n",
      "------------Saving Result------------\n",
      "Result saved at: ./var_results.pt\n"
     ]
    }
   ],
   "source": [
    "! python ../src/infer_var.py --Model ../trained_model/MetaChrom_models/MetaChrom_model --InputFile ../data/vseq_data/out.vseq --OutDir ./ --NumTarget 31 "
   ]
  },
  {
   "cell_type": "markdown",
   "metadata": {},
   "source": [
    "## 2) Now you can load and inspect the predeicted variant effects!"
   ]
  },
  {
   "cell_type": "code",
   "execution_count": 21,
   "metadata": {},
   "outputs": [
    {
     "name": "stdout",
     "output_type": "stream",
     "text": [
      "[known_CEBP_binding_increase];G;T\n",
      "PUT_neuron:0.00070332177\n",
      "PFC_H3K27ac:0.00044824556\n",
      "PEC_OCR:6.126519e-05\n",
      "CN:0.00011479808\n",
      "H3K27ac:6.472878e-05\n",
      "CP:0.0007041544\n",
      "AMY_neuron:0.003235966\n",
      "Organoid_11:0.0017932802\n",
      "PMC_neuron:0.0005969964\n",
      "DLPFC_neuron:2.8334674e-05\n",
      "CBC_H3K27ac:1.0493095e-05\n",
      "IPS:2.8059818e-05\n",
      "PVC_neuron:5.0139264e-05\n",
      "ACC_neuron:2.1693879e-05\n",
      "STC_neuron:1.9504223e-05\n",
      "PEC_enhancers:0.0003263657\n",
      "GZ:1.4135556e-05\n",
      "DN:3.1126197e-05\n",
      "TC_H3K27ac:2.6003458e-05\n",
      "GA:2.216082e-05\n",
      "NSC:6.5308996e-06\n",
      "ITC_neuron:2.5822315e-05\n",
      "FB1:3.2497104e-05\n",
      "Organoid_30:1.1329306e-05\n",
      "NAC_neuron:0.00012073014\n",
      "MDT_neuron:0.0006888136\n",
      "HIPP_neuron:0.0015212595\n",
      "VLPFC_neuron:0.00027875789\n",
      "Organoid_0:0.00032094866\n",
      "INS_neuron:0.0004182756\n",
      "OFC_neuron:8.837134e-05\n"
     ]
    }
   ],
   "source": [
    "results = torch.load('var_results.pt')\n",
    "for seq_id in results:\n",
    "    print(seq_id)\n",
    "    for i, j in enumerate(results[seq_id]['abs_diff']):\n",
    "        print(FeatMap[i] + ':' + str(j))\n",
    "    break"
   ]
  },
  {
   "cell_type": "markdown",
   "metadata": {},
   "source": [
    "Here is the predicted variant effect on the test variant(chr1:109817590) in each cell types"
   ]
  },
  {
   "cell_type": "code",
   "execution_count": null,
   "metadata": {},
   "outputs": [],
   "source": []
  }
 ],
 "metadata": {
  "kernelspec": {
   "display_name": "Python 3 (ipykernel)",
   "language": "python",
   "name": "python3"
  },
  "language_info": {
   "codemirror_mode": {
    "name": "ipython",
    "version": 3
   },
   "file_extension": ".py",
   "mimetype": "text/x-python",
   "name": "python",
   "nbconvert_exporter": "python",
   "pygments_lexer": "ipython3",
   "version": "3.9.7"
  }
 },
 "nbformat": 4,
 "nbformat_minor": 4
}
