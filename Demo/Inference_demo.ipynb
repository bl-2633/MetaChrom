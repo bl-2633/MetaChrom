{
 "cells": [
  {
   "cell_type": "markdown",
   "metadata": {},
   "source": [
    "# Inferring the epigenomic profiles of sequences"
   ]
  },
  {
   "cell_type": "markdown",
   "metadata": {},
   "source": [
    "1) Running the inference script on sequences"
   ]
  },
  {
   "cell_type": "code",
   "execution_count": null,
   "metadata": {},
   "outputs": [
    {
     "name": "stdout",
     "output_type": "stream",
     "text": [
      "------------Starting MetaChrom Inferece for Sequance epigenomic profile------------\r\n",
      "Model: ../trained_model/MetaChrom_models/MetaFeat_ResNet\r\n",
      "Number of Sequence to infer: 390380\r\n",
      "Device: 0\r\n",
      "Batch Size: 256\r\n",
      "Result Directory: ./\r\n",
      "------------Running Inference------------\r\n"
     ]
    }
   ],
   "source": [
    "!python3 ../src/infer.py --Model ../trained_model/MetaChrom_models/MetaFeat_ResNet --InputFile ../data/seq_data/test.seq --OutDir ./ --NumTarget 31 --Device 0"
   ]
  },
  {
   "cell_type": "markdown",
   "metadata": {},
   "source": [
    "2) Checking the ouput"
   ]
  },
  {
   "cell_type": "code",
   "execution_count": null,
   "metadata": {},
   "outputs": [],
   "source": [
    "import torch"
   ]
  },
  {
   "cell_type": "code",
   "execution_count": null,
   "metadata": {},
   "outputs": [],
   "source": [
    "results = torch.load('results.pt')\n",
    "print(len(results))\n",
    "for seq_id in results:\n",
    "    print(results[seq_id].shape)\n",
    "    print(results[seq_id])\n",
    "    break"
   ]
  },
  {
   "cell_type": "markdown",
   "metadata": {},
   "source": [
    "# Inferring genomic variant effects on epigenomic profiles"
   ]
  },
  {
   "cell_type": "markdown",
   "metadata": {},
   "source": [
    "1) Running the inference scrip on variant files"
   ]
  },
  {
   "cell_type": "code",
   "execution_count": null,
   "metadata": {},
   "outputs": [],
   "source": [
    "! python ../src/infer_var.py --Model ../trained_model/MetaChrom_models/MetaFeat_ResNet --InputFile ../data/vseq_data/out.vseq --OutDir ./ --NumTarget 31 "
   ]
  },
  {
   "cell_type": "code",
   "execution_count": null,
   "metadata": {},
   "outputs": [],
   "source": [
    "results = torch.load('results.pt')\n",
    "print(len(results))\n",
    "for seq_id in results:\n",
    "    print(results[seq_id]['ref_prob'])\n",
    "    print(results[seq_id]['alt_prob'])\n",
    "    print(results[seq_id]['abs_diff'])\n",
    "    break"
   ]
  },
  {
   "cell_type": "code",
   "execution_count": null,
   "metadata": {},
   "outputs": [],
   "source": []
  }
 ],
 "metadata": {
  "kernelspec": {
   "display_name": "Python 3",
   "language": "python",
   "name": "python3"
  },
  "language_info": {
   "codemirror_mode": {
    "name": "ipython",
    "version": 3
   },
   "file_extension": ".py",
   "mimetype": "text/x-python",
   "name": "python",
   "nbconvert_exporter": "python",
   "pygments_lexer": "ipython3",
   "version": "3.6.8"
  }
 },
 "nbformat": 4,
 "nbformat_minor": 4
}
