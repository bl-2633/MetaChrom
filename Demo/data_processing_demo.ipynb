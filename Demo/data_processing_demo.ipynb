{
 "cells": [
  {
   "cell_type": "markdown",
   "metadata": {},
   "source": [
    "# Processing data with Bed2Seq.py"
   ]
  },
  {
   "cell_type": "markdown",
   "metadata": {},
   "source": [
    "Below is a demo on how to generate sequence data and corresponding labels from a set of BED files with Bed2Seq.py \n",
    "\n",
    "1) Check the bed files"
   ]
  },
  {
   "cell_type": "code",
   "execution_count": 1,
   "metadata": {},
   "outputs": [
    {
     "name": "stdout",
     "output_type": "stream",
     "text": [
      "ACC_neuron.bed\t  GA.bed\t   NAC_neuron.bed     PFC_H3K27ac.bed\r\n",
      "AMY_neuron.bed\t  GZ.bed\t   NSC.bed\t      PMC_neuron.bed\r\n",
      "CBC_H3K27ac.bed   H3K27ac.bed\t   OFC_neuron.bed     PUT_neuron.bed\r\n",
      "CN.bed\t\t  HIPP_neuron.bed  Organoid_0.bed     PVC_neuron.bed\r\n",
      "CP.bed\t\t  INS_neuron.bed   Organoid_11.bed    STC_neuron.bed\r\n",
      "DLPFC_neuron.bed  IPS.bed\t   Organoid_30.bed    TC_H3K27ac.bed\r\n",
      "DN.bed\t\t  ITC_neuron.bed   PEC_enhancers.bed  VLPFC_neuron.bed\r\n",
      "FB1.bed\t\t  MDT_neuron.bed   PEC_OCR.bed\r\n"
     ]
    }
   ],
   "source": [
    "!ls ../data/bed_files"
   ]
  },
  {
   "cell_type": "markdown",
   "metadata": {},
   "source": [
    "2) Run Bed2Seq"
   ]
  },
  {
   "cell_type": "code",
   "execution_count": 2,
   "metadata": {},
   "outputs": [
    {
     "name": "stdout",
     "output_type": "stream",
     "text": [
      "------------Starting Bed2Seq------------\n",
      "\n",
      "------------Checking input BED directory------------\n",
      "Input bed directory: ../data/bed_files/\n",
      "\n",
      "Number of Bed file Found: 31\n",
      "PUT_neuron PFC_H3K27ac PEC_OCR CN H3K27ac CP AMY_neuron Organoid_11 PMC_neuron DLPFC_neuron CBC_H3K27ac IPS PVC_neuron ACC_neuron STC_neuron PEC_enhancers GZ DN TC_H3K27ac GA NSC ITC_neuron FB1 Organoid_30 NAC_neuron MDT_neuron HIPP_neuron VLPFC_neuron Organoid_0 INS_neuron OFC_neuron\n",
      "\n",
      "Finished\n",
      "------------Checking Reference Genome------------\n",
      "Finished\n",
      "------------Checking required tools and files------------\n",
      "Finished\n",
      "------------Calculating overlaps------------\n",
      "../tool/bedtools2/bin/intersectBed -a ../tool/genome_bins.bed -b ../data/bed_files/PUT_neuron.bed ../data/bed_files/PFC_H3K27ac.bed ../data/bed_files/PEC_OCR.bed ../data/bed_files/CN.bed ../data/bed_files/H3K27ac.bed ../data/bed_files/CP.bed ../data/bed_files/AMY_neuron.bed ../data/bed_files/Organoid_11.bed ../data/bed_files/PMC_neuron.bed ../data/bed_files/DLPFC_neuron.bed ../data/bed_files/CBC_H3K27ac.bed ../data/bed_files/IPS.bed ../data/bed_files/PVC_neuron.bed ../data/bed_files/ACC_neuron.bed ../data/bed_files/STC_neuron.bed ../data/bed_files/PEC_enhancers.bed ../data/bed_files/GZ.bed ../data/bed_files/DN.bed ../data/bed_files/TC_H3K27ac.bed ../data/bed_files/GA.bed ../data/bed_files/NSC.bed ../data/bed_files/ITC_neuron.bed ../data/bed_files/FB1.bed ../data/bed_files/Organoid_30.bed ../data/bed_files/NAC_neuron.bed ../data/bed_files/MDT_neuron.bed ../data/bed_files/HIPP_neuron.bed ../data/bed_files/VLPFC_neuron.bed ../data/bed_files/Organoid_0.bed ../data/bed_files/INS_neuron.bed ../data/bed_files/OFC_neuron.bed -names PUT_neuron PFC_H3K27ac PEC_OCR CN H3K27ac CP AMY_neuron Organoid_11 PMC_neuron DLPFC_neuron CBC_H3K27ac IPS PVC_neuron ACC_neuron STC_neuron PEC_enhancers GZ DN TC_H3K27ac GA NSC ITC_neuron FB1 Organoid_30 NAC_neuron MDT_neuron HIPP_neuron VLPFC_neuron Organoid_0 INS_neuron OFC_neuron -wa -wb -f 0.5 > ../data/seq_data/overlap.bed\n",
      "\n",
      "Writing overlap.bed\n",
      "Finished\n",
      "------------Composing sequence and corresponding labels------------\n",
      "Writing train.bed\n",
      "Writing test.bed\n",
      "Writing labels.pt\n",
      "Finished\n",
      "------------Writing Sequence file to destination------------\n",
      "Writing train.fasta\n",
      "Writing test.fasta\n",
      "Writing train.seq\n",
      "Writing test.seq\n",
      "Finished\n",
      "------------Writing Meta data------------\n",
      "Finished\n",
      "------------Clean Up------------\n",
      "Finished\n"
     ]
    }
   ],
   "source": [
    "!python3 ../src/data_processing/Bed2Seq.py --BedDir ../data/bed_files/ --OutDir ../data/seq_data/ --RefGenome ../tool/genome_bins.bed --ToolDir ../tool/"
   ]
  },
  {
   "cell_type": "markdown",
   "metadata": {},
   "source": [
    "3) Checking the output"
   ]
  },
  {
   "cell_type": "code",
   "execution_count": 3,
   "metadata": {},
   "outputs": [
    {
     "name": "stdout",
     "output_type": "stream",
     "text": [
      "Input bed directory: ../data/bed_files/\r\n",
      "Number of BED files: 31\r\n",
      "BED file names: PUT_neuron PFC_H3K27ac PEC_OCR CN H3K27ac CP AMY_neuron Organoid_11 PMC_neuron DLPFC_neuron CBC_H3K27ac IPS PVC_neuron ACC_neuron STC_neuron PEC_enhancers GZ DN TC_H3K27ac GA NSC ITC_neuron FB1 Organoid_30 NAC_neuron MDT_neuron HIPP_neuron VLPFC_neuron Organoid_0 INS_neuron OFC_neuron\r\n",
      "Number of train sequences: 3165290\r\n",
      "Number of test sequences: 390380\r\n"
     ]
    }
   ],
   "source": [
    "!cat ../data/seq_data/MetaData.txt"
   ]
  },
  {
   "cell_type": "code",
   "execution_count": 4,
   "metadata": {},
   "outputs": [],
   "source": [
    "import torch\n",
    "import sys\n",
    "sys.path.append('../src')\n",
    "from model import data_loader"
   ]
  },
  {
   "cell_type": "code",
   "execution_count": 5,
   "metadata": {},
   "outputs": [
    {
     "name": "stdout",
     "output_type": "stream",
     "text": [
      "50\n",
      "torch.Size([4, 1000])\n",
      "torch.Size([31])\n",
      "{'PUT_neuron': 0, 'PFC_H3K27ac': 1, 'PEC_OCR': 2, 'CN': 3, 'H3K27ac': 4, 'CP': 5, 'AMY_neuron': 6, 'Organoid_11': 7, 'PMC_neuron': 8, 'DLPFC_neuron': 9, 'CBC_H3K27ac': 10, 'IPS': 11, 'PVC_neuron': 12, 'ACC_neuron': 13, 'STC_neuron': 14, 'PEC_enhancers': 15, 'GZ': 16, 'DN': 17, 'TC_H3K27ac': 18, 'GA': 19, 'NSC': 20, 'ITC_neuron': 21, 'FB1': 22, 'Organoid_30': 23, 'NAC_neuron': 24, 'MDT_neuron': 25, 'HIPP_neuron': 26, 'VLPFC_neuron': 27, 'Organoid_0': 28, 'INS_neuron': 29, 'OFC_neuron': 30}\n"
     ]
    }
   ],
   "source": [
    "Dset = data_loader.seq_data(seq_path = '../data/seq_data/train.seq', training_mode = True, label_path = '../data/seq_data/labels.pt')\n",
    "seq_id, onehot_seq, label = Dset[0]\n",
    "print(seq_id)\n",
    "print(onehot_seq.size())\n",
    "print(label.size())\n",
    "FeatMap = torch.load('../data/seq_data/FeatMap.pt')\n",
    "print(FeatMap)"
   ]
  },
  {
   "cell_type": "markdown",
   "metadata": {},
   "source": [
    "# Processing variants with SNP2Seq.py"
   ]
  },
  {
   "cell_type": "markdown",
   "metadata": {},
   "source": [
    "Below is a demo on how to generate sequence data and corresponding labels from a set of BED files with Bed2Seq.py \n",
    "\n",
    "1) Check the variant file"
   ]
  },
  {
   "cell_type": "code",
   "execution_count": 6,
   "metadata": {},
   "outputs": [
    {
     "name": "stdout",
     "output_type": "stream",
     "text": [
      "rs328\n",
      "rs12854784\n",
      "chr1\t109817590\t[known_CEBP_binding_increase]\tG\tT\n",
      "chr10\t23508363\t[known_FOXA2_binding_decrease]\tA\tG\n",
      "chr16\t52599188\t[known_FOXA1_binding_increase]\tC\tT\n",
      "chr16\t209709\t[known_GATA1_binding_increase]\tT\tC\n"
     ]
    }
   ],
   "source": [
    "!cat ../data/SNP_files/rsid.txt\n",
    "!cat ../data/SNP_files/test.vcf"
   ]
  },
  {
   "cell_type": "markdown",
   "metadata": {},
   "source": [
    "2) Run SNP2Seq and checking output\n",
    "\n",
    "rsid mode"
   ]
  },
  {
   "cell_type": "code",
   "execution_count": 7,
   "metadata": {},
   "outputs": [
    {
     "name": "stdout",
     "output_type": "stream",
     "text": [
      "------------Starting SNP2Seq------------\n",
      "\n",
      "------------Checking required tools and files------------\n",
      "Finished\n",
      "------------Converting input to bed------------\n",
      "Finished\n",
      "------------Writing seq file to destination------------\n",
      "Finished\n",
      "------------Clean up------------\n",
      "Finished\n"
     ]
    }
   ],
   "source": [
    "!python3 ../src/data_processing/SNP2Seq.py --InputType rsid --InputFile ../data/SNP_files/rsid.txt --OutDir ../data/vseq_data/ --ToolDir ../tool/"
   ]
  },
  {
   "cell_type": "code",
   "execution_count": 8,
   "metadata": {},
   "outputs": [
    {
     "name": "stdout",
     "output_type": "stream",
     "text": [
      "rs328;C;G\n",
      "torch.Size([4, 1000])\n",
      "torch.Size([4, 1000])\n"
     ]
    }
   ],
   "source": [
    "Dset = data_loader.SNP_data(seq_path = '../data/vseq_data/out.vseq')\n",
    "seq_id, ref_seq, alt_seq = Dset[0]\n",
    "print(seq_id)\n",
    "print(ref_seq.size())\n",
    "print(alt_seq.size())"
   ]
  },
  {
   "cell_type": "markdown",
   "metadata": {},
   "source": [
    "VCF mode"
   ]
  },
  {
   "cell_type": "code",
   "execution_count": 9,
   "metadata": {},
   "outputs": [
    {
     "name": "stdout",
     "output_type": "stream",
     "text": [
      "------------Starting SNP2Seq------------\n",
      "\n",
      "------------Checking required tools and files------------\n",
      "Finished\n",
      "------------Converting input to bed------------\n",
      "Finished\n",
      "------------Writing seq file to destination------------\n",
      "Finished\n",
      "------------Clean up------------\n",
      "Finished\n"
     ]
    }
   ],
   "source": [
    "!python3 ../src/data_processing/SNP2Seq.py --InputType VCF --InputFile ../data/SNP_files/test.vcf --OutDir ../data/vseq_data/ --ToolDir ../tool/"
   ]
  },
  {
   "cell_type": "code",
   "execution_count": 10,
   "metadata": {},
   "outputs": [
    {
     "name": "stdout",
     "output_type": "stream",
     "text": [
      "[known_CEBP_binding_increase];G;T\n",
      "torch.Size([4, 1000])\n",
      "torch.Size([4, 1000])\n"
     ]
    }
   ],
   "source": [
    "Dset = data_loader.SNP_data(seq_path = '../data/vseq_data/out.vseq')\n",
    "seq_id, ref_seq, alt_seq = Dset[0]\n",
    "print(seq_id)\n",
    "print(ref_seq.size())\n",
    "print(alt_seq.size())"
   ]
  },
  {
   "cell_type": "code",
   "execution_count": null,
   "metadata": {},
   "outputs": [],
   "source": []
  }
 ],
 "metadata": {
  "kernelspec": {
   "display_name": "Python 3 (ipykernel)",
   "language": "python",
   "name": "python3"
  },
  "language_info": {
   "codemirror_mode": {
    "name": "ipython",
    "version": 3
   },
   "file_extension": ".py",
   "mimetype": "text/x-python",
   "name": "python",
   "nbconvert_exporter": "python",
   "pygments_lexer": "ipython3",
   "version": "3.9.7"
  }
 },
 "nbformat": 4,
 "nbformat_minor": 4
}
