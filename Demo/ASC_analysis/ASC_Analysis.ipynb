{
 "cells": [
  {
   "cell_type": "markdown",
   "id": "4925ad87-6f5b-4f2b-b9cc-9f17faaa215a",
   "metadata": {},
   "source": [
    "# ASC Variant Enrichment Analysis"
   ]
  },
  {
   "cell_type": "markdown",
   "id": "afcc18a4-b9ad-4fb6-a120-abb2db78db86",
   "metadata": {},
   "source": [
    "In this section, we evaluate MetaChrom predictions using ASC variants and compare MetaChrom to other population variant scoring methods. We leverage ASC variants in gutamatergic neurons (iN-Glut) and neural progenitor cells (NPC), which are defined by allele imbalance in read counts from ATAC-seq experiments. There are 5,611 and 3,547 ASC variants, at FDR < 0.05, in iN-Glut and NPC, respectively. See details in PMID: 32732423"
   ]
  },
  {
   "cell_type": "markdown",
   "id": "bbb9d716-8b42-44d6-9013-a963e34d5c04",
   "metadata": {},
   "source": [
    "<u>The list of ASC variants in iN-Glut:  true_ASC_Glut.txt\\\n",
    "The list of ASC variants in NPC:  true_ASC_NPC.txt"
   ]
  },
  {
   "cell_type": "markdown",
   "id": "0871c620-41a8-4e02-9f00-df17e1801ac9",
   "metadata": {},
   "source": [
    "In open chromatin regions in iN-Glut and NPC, We extracted common variants from the 1000 Genomes Project with MAF > 5% and scored them with MetaChrom, Funsig, BaseCNN, delta-SVM and CADD. For MetaChrom, the pipeline of scoring variants is in https://github.com/bl-2633/MetaChrom. For other methods, see details in the method section. We provide two lists of variants with their functional scores."
   ]
  },
  {
   "cell_type": "markdown",
   "id": "161b44f6-4ed8-4f72-8f6a-ffd2331b8c89",
   "metadata": {},
   "source": [
    "<u>Variants in iN-Glut: ASC_Glut.csv\\\n",
    "Variants in NPC: ASC_NPC.csv"
   ]
  },
  {
   "cell_type": "markdown",
   "id": "6159692b-7a82-4642-921d-323bf531de47",
   "metadata": {},
   "source": [
    "Then we selected the top 1,000 predicted variants by each scoring method and count the number of true ASC variants. Note that for Funsig score, smaller number indicates higher probability of being functional. To calcualte the enrichment of ASC variants, we randomly sampled common variants in each cell type as a control. "
   ]
  },
  {
   "cell_type": "markdown",
   "id": "fb745ed5-8eaa-4446-aa3d-24315e82bb34",
   "metadata": {},
   "source": [
    "<u>Random variants in iN-Glut: random_variants_Glut.txt\\\n",
    "Random variants in NPC: random_variants_NPC.txt"
   ]
  },
  {
   "cell_type": "markdown",
   "id": "200756e7-54bf-4fdb-afb4-7e7f76b751a5",
   "metadata": {},
   "source": [
    "Finally, the enrichment of ASC variants is calculated by Fisher's exact test (In R, fisher.test)"
   ]
  }
 ],
 "metadata": {
  "kernelspec": {
   "display_name": "Python 3 (ipykernel)",
   "language": "python",
   "name": "python3"
  },
  "language_info": {
   "codemirror_mode": {
    "name": "ipython",
    "version": 3
   },
   "file_extension": ".py",
   "mimetype": "text/x-python",
   "name": "python",
   "nbconvert_exporter": "python",
   "pygments_lexer": "ipython3",
   "version": "3.9.7"
  }
 },
 "nbformat": 4,
 "nbformat_minor": 5
}
